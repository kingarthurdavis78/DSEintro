{
 "cells": [
  {
   "cell_type": "code",
   "execution_count": 43,
   "id": "initial_id",
   "metadata": {
    "ExecuteTime": {
     "end_time": "2025-08-26T20:25:45.684007Z",
     "start_time": "2025-08-26T20:25:45.673306Z"
    },
    "collapsed": true
   },
   "outputs": [
    {
     "name": "stdout",
     "output_type": "stream",
     "text": [
      "0.19.0\n"
     ]
    }
   ],
   "source": [
    "import manim as mn\n",
    "from manim import *\n",
    "import numpy  as np\n",
    "config.verbosity = \"WARNING\"\n",
    "print(mn.__version__)"
   ]
  },
  {
   "cell_type": "code",
   "execution_count": 44,
   "id": "e8b56815b59c4d1f",
   "metadata": {
    "ExecuteTime": {
     "end_time": "2025-08-26T20:26:06.590792Z",
     "start_time": "2025-08-26T20:26:06.588167Z"
    }
   },
   "outputs": [],
   "source": [
    "def generate_quantum_state():\n",
    "    x = np.random.rand()\n",
    "    y = np.sqrt(1 - x**2)\n",
    "    # Randomly assign a sign to make it a general vector in a real plane\n",
    "    if np.random.rand() < 0.5:\n",
    "        x *= -1\n",
    "    return x, y"
   ]
  },
  {
   "cell_type": "code",
   "execution_count": 90,
   "id": "f00d227ba93352a1",
   "metadata": {
    "ExecuteTime": {
     "end_time": "2025-08-26T20:25:47.579583Z",
     "start_time": "2025-08-26T20:25:46.744939Z"
    }
   },
   "outputs": [
    {
     "data": {
      "text/html": [
       "<pre style=\"white-space:pre;overflow-x:auto;line-height:normal;font-family:Menlo,'DejaVu Sans Mono',consolas,'Courier New',monospace\">Manim Community <span style=\"color: #008000; text-decoration-color: #008000\">v0.19.0</span>\n",
       "\n",
       "</pre>\n"
      ],
      "text/plain": [
       "Manim Community \u001b[32mv0.\u001b[0m\u001b[32m19.0\u001b[0m\n",
       "\n"
      ]
     },
     "metadata": {},
     "output_type": "display_data"
    },
    {
     "name": "stderr",
     "output_type": "stream",
     "text": [
      "                                                                                                                                                                                                                   \r"
     ]
    },
    {
     "data": {
      "text/html": [
       "<video src=\"media/jupyter/QuantumSample@2025-08-27@13-20-23.mp4\" controls autoplay loop style=\"max-width: 60%;\"  >\n",
       "      Your browser does not support the <code>video</code> element.\n",
       "    </video>"
      ],
      "text/plain": [
       "<IPython.core.display.Video object>"
      ]
     },
     "metadata": {},
     "output_type": "display_data"
    }
   ],
   "source": [
    "%%manim -qm QuantumSample\n",
    "\n",
    "class QuantumSample(Scene):\n",
    "    def construct(self):\n",
    "        axes = Axes(\n",
    "            x_range=[-1.3, 1.3, 1],\n",
    "            y_range=[-1.3, 1.3, 1],\n",
    "            x_length=6,\n",
    "            y_length=6,\n",
    "            axis_config={\"include_numbers\": True,\n",
    "            \"include_ticks\": True,},\n",
    "            tips=False\n",
    "        )\n",
    "\n",
    "        x_axis = axes.get_x_axis()\n",
    "        y_axis = axes.get_y_axis()\n",
    "        labels = axes.get_axis_labels(x_label=\"x\", y_label=\"y\")\n",
    "\n",
    "        plane = NumberPlane(\n",
    "            x_range=[-1.3, 1.3, 0.5],\n",
    "            y_range=[-1.3, 1.3, 0.5],\n",
    "            x_length=6,\n",
    "            y_length=6,\n",
    "            background_line_style={\n",
    "                \"stroke_width\": 1,\n",
    "                \"stroke_opacity\": 0.7\n",
    "            }\n",
    "        )\n",
    "\n",
    "        label_x = MathTex(r'\\vert 0 \\rangle').next_to(axes.get_x_axis(), RIGHT)\n",
    "        label_y = MathTex(r'\\vert 1 \\rangle').next_to(axes.get_y_axis(), UP)\n",
    "\n",
    "        origin = axes.c2p(0, 0)\n",
    "        unit_x = axes.c2p(1, 0)\n",
    "        unit_y = axes.c2p(0, 1)\n",
    "\n",
    "        x, y = generate_quantum_state()\n",
    "        x2, y2 = -x, -y\n",
    "\n",
    "        state_vec = Arrow(origin, x * unit_x + y * unit_y, buff=0, color=RED)\n",
    "        state_vec2 = Arrow(origin, x2 * unit_x + y2 * unit_y, buff=0, color=RED).set_opacity(0.8)\n",
    "\n",
    "        lines = axes.get_lines_to_point(axes.c2p(x,y))\n",
    "\n",
    "        plot_group = VGroup(plane, axes, x_axis, y_axis, labels, state_vec, state_vec2, lines, label_x, label_y,)\n",
    "        # Shift the group to the right\n",
    "        plot_group.shift(RIGHT * 3)\n",
    "\n",
    "        origin += RIGHT * 3\n",
    "\n",
    "\n",
    "        equation = MathTex(rf'\\vert \\psi \\rangle = {round(x, 3)} \\vert 0 \\rangle + {round(y, 3)} \\vert 1 \\rangle')\n",
    "        equation.to_edge(LEFT)\n",
    "        self.add(equation)\n",
    "\n",
    "\n",
    "        self.add(plane)\n",
    "\n",
    "        expl_state = Text(\"This is a quantum state vector.\\nIt is a linear combination of\\nthe basis states |0⟩ and |1⟩.\", font_size=30, color=YELLOW)\n",
    "        expl_state.next_to(equation, DOWN, buff=0.5).align_to(equation, LEFT)\n",
    "\n",
    "        self.play(Create(y_axis), run_time=0.5)\n",
    "        self.play(Create(x_axis), Write(label_x), Write(label_y), run_time=0.5)\n",
    "        self.play(GrowArrow(state_vec), GrowArrow(state_vec2), Create(lines))\n",
    "        self.wait(0.5)\n",
    "        self.play(FadeIn(expl_state))\n",
    "        self.wait(4)\n",
    "        self.play(FadeOut(expl_state))\n",
    "        self.wait(1)\n",
    "\n",
    "        move_up = equation.animate.to_edge(UP + LEFT)\n",
    "        self.play(move_up)\n",
    "        self.wait(0.5)\n",
    "\n",
    "\n",
    "        # Create probability texts for potential measurements\n",
    "        prob_0 = MathTex(rf'P(\\vert 0 \\rangle) = |{round(x, 3)}|^2 = {round(x**2, 3)}')\n",
    "        prob_1 = MathTex(rf'P(\\vert 1 \\rangle) = |{round(y, 3)}|^2 = {round(y**2, 3)}')\n",
    "\n",
    "        # Position the probabilities below the equation\n",
    "        prob_0.next_to(equation, DOWN, buff=0.5).align_to(equation, LEFT)\n",
    "        prob_1.next_to(prob_0, DOWN, buff=0.3).align_to(equation, LEFT)\n",
    "\n",
    "        # Animate writing probabilities\n",
    "        self.play(Write(prob_0))\n",
    "        self.wait(0.3)\n",
    "        self.play(Write(prob_1))\n",
    "\n",
    "        expl_prob = Text(\"These are the probabilities of measuring\\nthe system in state |0⟩ or |1⟩.\", font_size=30, color=YELLOW)\n",
    "        expl_prob.next_to(prob_1, DOWN, buff=0.3).align_to(equation, LEFT)\n",
    "\n",
    "        self.play(FadeIn(expl_prob))\n",
    "        self.wait(4)\n",
    "        self.play(FadeOut(expl_prob))\n",
    "        self.wait(0.3)\n",
    "\n",
    "        meas = Text(\"Measuring...\", font_size=40, color=BLUE)\n",
    "        meas.next_to(prob_1, DOWN, buff=0.3).align_to(equation, LEFT)\n",
    "\n",
    "        self.play(FadeIn(meas))\n",
    "        self.wait(1)\n",
    "        self.play(FadeOut(meas))\n",
    "        self.wait(0.3)\n",
    "    \n",
    "\n",
    "        if np.random.rand() < x**2:\n",
    "            measurement = MathTex(rf'\\text{{Measured }} \\vert 0 \\rangle!')\n",
    "\n",
    "            # Measured |0> outcome - rotate vector towards x axis\n",
    "            target_vector = Arrow(origin, origin + np.sign(x) * unit_x, buff=0, color=BLUE)\n",
    "            target_vector2 = Arrow(origin, origin - np.sign(x) * unit_x, buff=0, color=BLUE).set_opacity(0.8)\n",
    "        else:\n",
    "            measurement = MathTex(rf'\\text{{Measured }} \\vert 1 \\rangle!')\n",
    "\n",
    "            # Measured |1> outcome - rotate vector towards y axis\n",
    "            target_vector = Arrow(origin, origin + np.sign(y) * unit_y, buff=0, color=BLUE)\n",
    "            target_vector2 = Arrow(origin, origin - np.sign(y) * unit_y, buff=0, color=BLUE).set_opacity(0.8)\n",
    "        \n",
    "        measurement.next_to(prob_1, DOWN, buff=0.3).align_to(equation, LEFT)\n",
    "        self.play(Write(measurement))\n",
    "        self.wait(0.3)\n",
    "\n",
    "        self.play(Uncreate(lines), Transform(state_vec, target_vector), Transform(state_vec2, target_vector2))\n",
    "\n",
    "        self.wait(1)\n",
    "\n",
    "        expl_prob = Text(\"When a measurement is performed,\\nthe state vector \\'snaps\\' to the basis vector\\ncorresponding to the observed\\nmeasurement outcome.\", font_size=30, color=YELLOW)\n",
    "        expl_prob.next_to(measurement, DOWN, buff=0.3).align_to(equation, LEFT)\n",
    "\n",
    "        self.play(FadeIn(expl_prob))\n",
    "        self.wait(4)\n",
    "        self.play(FadeOut(expl_prob))\n",
    "        self.wait(4)\n",
    "\n",
    "    \n"
   ]
  },
  {
   "cell_type": "code",
   "execution_count": null,
   "id": "8c7401bb",
   "metadata": {},
   "outputs": [],
   "source": []
  }
 ],
 "metadata": {
  "kernelspec": {
   "display_name": "manim",
   "language": "python",
   "name": "python3"
  },
  "language_info": {
   "codemirror_mode": {
    "name": "ipython",
    "version": 3
   },
   "file_extension": ".py",
   "mimetype": "text/x-python",
   "name": "python",
   "nbconvert_exporter": "python",
   "pygments_lexer": "ipython3",
   "version": "3.9.21"
  }
 },
 "nbformat": 4,
 "nbformat_minor": 5
}
